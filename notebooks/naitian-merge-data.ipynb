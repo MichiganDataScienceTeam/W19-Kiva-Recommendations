{
 "cells": [
  {
   "cell_type": "code",
   "execution_count": 18,
   "metadata": {},
   "outputs": [],
   "source": [
    "from surprise import SVD\n",
    "from surprise import Dataset\n",
    "from surprise import Reader\n",
    "from surprise.model_selection import cross_validate"
   ]
  },
  {
   "cell_type": "code",
   "execution_count": 3,
   "metadata": {},
   "outputs": [],
   "source": [
    "import pandas as pd\n",
    "import numpy as np\n",
    "import scipy.stats"
   ]
  },
  {
   "cell_type": "code",
   "execution_count": 76,
   "metadata": {},
   "outputs": [],
   "source": [
    "import matplotlib.pyplot as plt\n",
    "import seaborn as sns"
   ]
  },
  {
   "cell_type": "code",
   "execution_count": 77,
   "metadata": {},
   "outputs": [],
   "source": [
    "sns.set()"
   ]
  },
  {
   "cell_type": "code",
   "execution_count": 2,
   "metadata": {},
   "outputs": [],
   "source": [
    "df = pd.read_csv('../data/raw/loans.csv')"
   ]
  },
  {
   "cell_type": "code",
   "execution_count": 22,
   "metadata": {},
   "outputs": [],
   "source": [
    "df2 = pd.read_csv('../data/raw/loans_lenders.csv')"
   ]
  },
  {
   "cell_type": "code",
   "execution_count": 23,
   "metadata": {},
   "outputs": [
    {
     "data": {
      "text/plain": [
       "(1635741, 2)"
      ]
     },
     "execution_count": 23,
     "metadata": {},
     "output_type": "execute_result"
    }
   ],
   "source": [
    "df2.shape"
   ]
  },
  {
   "cell_type": "code",
   "execution_count": 24,
   "metadata": {},
   "outputs": [],
   "source": [
    "df2['LENDERS'] = df2.LENDERS.str.split(\", \")"
   ]
  },
  {
   "cell_type": "code",
   "execution_count": 25,
   "metadata": {},
   "outputs": [
    {
     "data": {
      "text/plain": [
       "['ron5108',\n",
       " 'suzie7305',\n",
       " 'derekconlon',\n",
       " 'elaine3469',\n",
       " 'pamela8247',\n",
       " 'karen48556745',\n",
       " 'claragrace7170',\n",
       " 'john6330',\n",
       " 'samuel1862',\n",
       " 'annie81104665',\n",
       " 'caroline8562',\n",
       " 'caroline8562',\n",
       " 'paulandkaren4338',\n",
       " 'erin3748',\n",
       " 'ryan8068',\n",
       " 'carol4936',\n",
       " 'nony5027',\n",
       " 'bobharris',\n",
       " 'bobharris']"
      ]
     },
     "execution_count": 25,
     "metadata": {},
     "output_type": "execute_result"
    }
   ],
   "source": [
    "df2.iloc[0][1]"
   ]
  },
  {
   "cell_type": "code",
   "execution_count": 84,
   "metadata": {},
   "outputs": [],
   "source": [
    "df2_sample = df2.sample(n=10000)"
   ]
  },
  {
   "cell_type": "code",
   "execution_count": 85,
   "metadata": {},
   "outputs": [],
   "source": [
    "# split list and create a new row for each entry\n",
    "# https://stackoverflow.com/questions/27263805/pandas-when-cell-contents-are-lists-create-a-row-for-each-element-in-the-list\n",
    "\n",
    "lender = df2_sample.LENDERS.apply(lambda x: pd.Series(x)).stack().reset_index(level=1, drop=True)\n",
    "lender.name = 'lender'\n"
   ]
  },
  {
   "cell_type": "code",
   "execution_count": 86,
   "metadata": {
    "scrolled": true
   },
   "outputs": [
    {
     "data": {
      "text/plain": [
       "count        195829\n",
       "unique       104041\n",
       "top       gooddogg1\n",
       "freq           1296\n",
       "Name: lender, dtype: object"
      ]
     },
     "execution_count": 86,
     "metadata": {},
     "output_type": "execute_result"
    }
   ],
   "source": [
    "lender.describe()"
   ]
  },
  {
   "cell_type": "code",
   "execution_count": 81,
   "metadata": {},
   "outputs": [
    {
     "data": {
      "text/plain": [
       "(array([1.635347e+06, 2.330000e+02, 6.100000e+01, 3.000000e+01,\n",
       "        4.600000e+01, 1.100000e+01, 0.000000e+00, 2.000000e+00,\n",
       "        6.000000e+00, 5.000000e+00]),\n",
       " array([1.0000e+00, 3.0230e+02, 6.0360e+02, 9.0490e+02, 1.2062e+03,\n",
       "        1.5075e+03, 1.8088e+03, 2.1101e+03, 2.4114e+03, 2.7127e+03,\n",
       "        3.0140e+03]),\n",
       " <a list of 10 Patch objects>)"
      ]
     },
     "execution_count": 81,
     "metadata": {},
     "output_type": "execute_result"
    },
    {
     "data": {
      "image/png": "[encoded data removed]",
      "text/plain": [
       "<Figure size 432x288 with 1 Axes>"
      ]
     },
     "metadata": {},
     "output_type": "display_data"
    }
   ],
   "source": [
    "fig = plt.figure()\n",
    "fig.suptitle('Number of Lenders Per Loan')\n",
    "plt.xlabel(\"Number of Lenders\")\n",
    "plt.ylabel(\"Count\")\n",
    "plt.hist(df2.LENDERS.apply(len), log=True)"
   ]
  },
  {
   "cell_type": "code",
   "execution_count": 74,
   "metadata": {},
   "outputs": [
    {
     "data": {
      "text/plain": [
       "count    1.635741e+06\n",
       "mean     1.976555e+01\n",
       "std      2.595738e+01\n",
       "min      1.000000e+00\n",
       "25%      7.000000e+00\n",
       "50%      1.300000e+01\n",
       "75%      2.400000e+01\n",
       "max      3.014000e+03\n",
       "Name: LENDERS, dtype: float64"
      ]
     },
     "execution_count": 74,
     "metadata": {},
     "output_type": "execute_result"
    }
   ],
   "source": [
    "df2.LENDERS.apply(len).describe()"
   ]
  },
  {
   "cell_type": "code",
   "execution_count": 87,
   "metadata": {},
   "outputs": [],
   "source": [
    "sample = df2_sample"
   ]
  },
  {
   "cell_type": "code",
   "execution_count": 88,
   "metadata": {},
   "outputs": [],
   "source": [
    "sample = sample.join(lender)"
   ]
  },
  {
   "cell_type": "code",
   "execution_count": 89,
   "metadata": {},
   "outputs": [
    {
     "data": {
      "text/plain": [
       "(195829, 3)"
      ]
     },
     "execution_count": 89,
     "metadata": {},
     "output_type": "execute_result"
    }
   ],
   "source": [
    "sample.shape"
   ]
  },
  {
   "cell_type": "code",
   "execution_count": 90,
   "metadata": {},
   "outputs": [
    {
     "data": {
      "text/plain": [
       "(10000,)"
      ]
     },
     "execution_count": 90,
     "metadata": {},
     "output_type": "execute_result"
    }
   ],
   "source": [
    "sample['LOAN_ID'].unique().shape"
   ]
  },
  {
   "cell_type": "code",
   "execution_count": 91,
   "metadata": {},
   "outputs": [],
   "source": [
    "sample = sample.drop('LENDERS', axis=1)"
   ]
  },
  {
   "cell_type": "code",
   "execution_count": 92,
   "metadata": {},
   "outputs": [],
   "source": [
    "# collapse same user for each loan (so if bobharris shows up twice, collapse that to one row with count 2)\n",
    "data = sample.groupby(['LOAN_ID', 'lender']).size().reset_index()"
   ]
  },
  {
   "cell_type": "code",
   "execution_count": 93,
   "metadata": {},
   "outputs": [
    {
     "data": {
      "text/plain": [
       "(190677, 3)"
      ]
     },
     "execution_count": 93,
     "metadata": {},
     "output_type": "execute_result"
    }
   ],
   "source": [
    "data.shape"
   ]
  },
  {
   "cell_type": "code",
   "execution_count": 94,
   "metadata": {},
   "outputs": [],
   "source": [
    "# rename some columns\n",
    "data = data.rename(columns={\"LOAN_ID\": \"loan_id\", 0: \"count\"})"
   ]
  },
  {
   "cell_type": "code",
   "execution_count": 95,
   "metadata": {},
   "outputs": [
    {
     "data": {
      "text/plain": [
       "count    190677.000000\n",
       "mean          1.027020\n",
       "std           0.311054\n",
       "min           1.000000\n",
       "25%           1.000000\n",
       "50%           1.000000\n",
       "75%           1.000000\n",
       "max          46.000000\n",
       "Name: count, dtype: float64"
      ]
     },
     "execution_count": 95,
     "metadata": {},
     "output_type": "execute_result"
    }
   ],
   "source": [
    "data['count'].describe()"
   ]
  },
  {
   "cell_type": "code",
   "execution_count": 98,
   "metadata": {},
   "outputs": [],
   "source": [
    "reader = Reader(rating_scale=(0, data['count'].max()))\n",
    "# The columns must correspond to user id, item id and ratings (in that order).\n",
    "surprise_data = Dataset.load_from_df(data[['loan_id', 'lender', 'count']], reader)"
   ]
  },
  {
   "cell_type": "code",
   "execution_count": 99,
   "metadata": {
    "scrolled": true
   },
   "outputs": [
    {
     "name": "stdout",
     "output_type": "stream",
     "text": [
      "Evaluating RMSE, MAE of algorithm SVD on 5 split(s).\n",
      "\n",
      "                  Fold 1  Fold 2  Fold 3  Fold 4  Fold 5  Mean    Std     \n",
      "RMSE (testset)    0.3590  0.2408  0.2694  0.3541  0.3087  0.3064  0.0463  \n",
      "MAE (testset)     0.0836  0.0831  0.0842  0.0846  0.0842  0.0839  0.0005  \n",
      "Fit time          9.23    9.42    8.97    9.18    9.16    9.19    0.14    \n",
      "Test time         0.36    0.35    0.33    0.32    0.30    0.33    0.02    \n"
     ]
    },
    {
     "data": {
      "text/plain": [
       "{'test_rmse': array([0.35902654, 0.24083059, 0.26940269, 0.35413186, 0.30869676]),\n",
       " 'test_mae': array([0.08355534, 0.08305066, 0.08422668, 0.08458248, 0.0842196 ]),\n",
       " 'fit_time': (9.227293968200684,\n",
       "  9.421902179718018,\n",
       "  8.968926906585693,\n",
       "  9.179816007614136,\n",
       "  9.160969972610474),\n",
       " 'test_time': (0.3575170040130615,\n",
       "  0.34866905212402344,\n",
       "  0.3297281265258789,\n",
       "  0.31998276710510254,\n",
       "  0.2952301502227783)}"
      ]
     },
     "execution_count": 99,
     "metadata": {},
     "output_type": "execute_result"
    }
   ],
   "source": [
    "# We'll use the famous SVD algorithm.\n",
    "algo = SVD()\n",
    "\n",
    "# Run 5-fold cross-validation and print results\n",
    "cross_validate(algo, surprise_data, measures=['RMSE', 'MAE'], cv=5, verbose=True)"
   ]
  },
  {
   "cell_type": "code",
   "execution_count": 44,
   "metadata": {},
   "outputs": [
    {
     "data": {
      "text/html": [
       "<div>\n",
       "<style scoped>\n",
       "    .dataframe tbody tr th:only-of-type {\n",
       "        vertical-align: middle;\n",
       "    }\n",
       "\n",
       "    .dataframe tbody tr th {\n",
       "        vertical-align: top;\n",
       "    }\n",
       "\n",
       "    .dataframe thead th {\n",
       "        text-align: right;\n",
       "    }\n",
       "</style>\n",
       "<table border=\"1\" class=\"dataframe\">\n",
       "  <thead>\n",
       "    <tr style=\"text-align: right;\">\n",
       "      <th></th>\n",
       "      <th>loan_id</th>\n",
       "      <th>count</th>\n",
       "    </tr>\n",
       "  </thead>\n",
       "  <tbody>\n",
       "    <tr>\n",
       "      <th>count</th>\n",
       "      <td>81.000000</td>\n",
       "      <td>81.000000</td>\n",
       "    </tr>\n",
       "    <tr>\n",
       "      <th>mean</th>\n",
       "      <td>61064.777778</td>\n",
       "      <td>1.024691</td>\n",
       "    </tr>\n",
       "    <tr>\n",
       "      <th>std</th>\n",
       "      <td>50293.271140</td>\n",
       "      <td>0.156150</td>\n",
       "    </tr>\n",
       "    <tr>\n",
       "      <th>min</th>\n",
       "      <td>15246.000000</td>\n",
       "      <td>1.000000</td>\n",
       "    </tr>\n",
       "    <tr>\n",
       "      <th>25%</th>\n",
       "      <td>31727.000000</td>\n",
       "      <td>1.000000</td>\n",
       "    </tr>\n",
       "    <tr>\n",
       "      <th>50%</th>\n",
       "      <td>31727.000000</td>\n",
       "      <td>1.000000</td>\n",
       "    </tr>\n",
       "    <tr>\n",
       "      <th>75%</th>\n",
       "      <td>66852.000000</td>\n",
       "      <td>1.000000</td>\n",
       "    </tr>\n",
       "    <tr>\n",
       "      <th>max</th>\n",
       "      <td>152222.000000</td>\n",
       "      <td>2.000000</td>\n",
       "    </tr>\n",
       "  </tbody>\n",
       "</table>\n",
       "</div>"
      ],
      "text/plain": [
       "             loan_id      count\n",
       "count      81.000000  81.000000\n",
       "mean    61064.777778   1.024691\n",
       "std     50293.271140   0.156150\n",
       "min     15246.000000   1.000000\n",
       "25%     31727.000000   1.000000\n",
       "50%     31727.000000   1.000000\n",
       "75%     66852.000000   1.000000\n",
       "max    152222.000000   2.000000"
      ]
     },
     "execution_count": 44,
     "metadata": {},
     "output_type": "execute_result"
    }
   ],
   "source": [
    "data.describe()"
   ]
  },
  {
   "cell_type": "code",
   "execution_count": 5,
   "metadata": {
    "scrolled": true
   },
   "outputs": [
    {
     "data": {
      "text/plain": [
       "(1682790, 34)"
      ]
     },
     "execution_count": 5,
     "metadata": {},
     "output_type": "execute_result"
    }
   ],
   "source": [
    "df.shape"
   ]
  },
  {
   "cell_type": "code",
   "execution_count": 4,
   "metadata": {},
   "outputs": [],
   "source": [
    "df_sample = df.sample(n=1000)"
   ]
  },
  {
   "cell_type": "code",
   "execution_count": 11,
   "metadata": {},
   "outputs": [],
   "source": [
    "merged = pd.merge(df_sample, df2, on=\"LOAN_ID\")"
   ]
  },
  {
   "cell_type": "code",
   "execution_count": 12,
   "metadata": {},
   "outputs": [
    {
     "data": {
      "text/plain": [
       "(985, 35)"
      ]
     },
     "execution_count": 12,
     "metadata": {},
     "output_type": "execute_result"
    }
   ],
   "source": [
    "merged.shape"
   ]
  },
  {
   "cell_type": "code",
   "execution_count": 13,
   "metadata": {},
   "outputs": [
    {
     "data": {
      "text/plain": [
       "0     judy7940, jarkko5246, carl2812, valerio2063, u...\n",
       "1     esouthard, sherrilothridge, rasmus5629, susan1...\n",
       "2     katrina4255, themissionbeltco, jaredfielding, ...\n",
       "3     richard5036, eliasdebbas, karen6798, cedric911...\n",
       "4     jennifer51145544, judith8117, matteo5275, DasJ...\n",
       "5     dianne5227, damien4633, aaron83574977, john714...\n",
       "6     david7063, gooddogg1, dps, nicholasluder, qu63...\n",
       "7     don6118, anonymous2012, judith5696, eugene7557...\n",
       "8     judith5696, judith5696, juergen8232, cristian5...\n",
       "9           brad7205, susan8444, bette8303, william6536\n",
       "10    nms, aaron83574977, robert7892, nicholasluder,...\n",
       "11    hilde9827, michael11886657, andrea53594955, al...\n",
       "12    htmnt6651, jo3270, stanley4950, christopher705...\n",
       "13    samantha5889, charlieandpaula2066, rotaryclub5091\n",
       "14    eugenie6716, veronica5786, rob2176, susie6128,...\n",
       "15                                             mark8125\n",
       "16    gooddogg1, intelsmallthingschal2081, aby3665, ...\n",
       "17                                           andrew6536\n",
       "18    mary16238927, carsten6736, markgrimes, markgri...\n",
       "19    baron5x, david4099, kirby5228, Berry5964, Berr...\n",
       "Name: LENDERS, dtype: object"
      ]
     },
     "execution_count": 13,
     "metadata": {},
     "output_type": "execute_result"
    }
   ],
   "source": [
    "merged.LENDERS.head(20)"
   ]
  },
  {
   "cell_type": "code",
   "execution_count": 16,
   "metadata": {},
   "outputs": [],
   "source": [
    "merged.to_csv('./kiva_ds_csv/loan_lender_merged.csv')"
   ]
  },
  {
   "cell_type": "code",
   "execution_count": 14,
   "metadata": {},
   "outputs": [],
   "source": [
    "merged['LENDERS_LIST'] = merged.LENDERS.str.split(', ')"
   ]
  },
  {
   "cell_type": "code",
   "execution_count": 16,
   "metadata": {},
   "outputs": [
    {
     "data": {
      "text/html": [
       "<div>\n",
       "<style scoped>\n",
       "    .dataframe tbody tr th:only-of-type {\n",
       "        vertical-align: middle;\n",
       "    }\n",
       "\n",
       "    .dataframe tbody tr th {\n",
       "        vertical-align: top;\n",
       "    }\n",
       "\n",
       "    .dataframe thead th {\n",
       "        text-align: right;\n",
       "    }\n",
       "</style>\n",
       "<table border=\"1\" class=\"dataframe\">\n",
       "  <thead>\n",
       "    <tr style=\"text-align: right;\">\n",
       "      <th></th>\n",
       "      <th>LOAN_ID</th>\n",
       "      <th>LOAN_NAME</th>\n",
       "      <th>ORIGINAL_LANGUAGE</th>\n",
       "      <th>DESCRIPTION</th>\n",
       "      <th>DESCRIPTION_TRANSLATED</th>\n",
       "      <th>FUNDED_AMOUNT</th>\n",
       "      <th>LOAN_AMOUNT</th>\n",
       "      <th>STATUS</th>\n",
       "      <th>IMAGE_ID</th>\n",
       "      <th>VIDEO_ID</th>\n",
       "      <th>...</th>\n",
       "      <th>NUM_JOURNAL_ENTRIES</th>\n",
       "      <th>NUM_BULK_ENTRIES</th>\n",
       "      <th>TAGS</th>\n",
       "      <th>BORROWER_NAMES</th>\n",
       "      <th>BORROWER_GENDERS</th>\n",
       "      <th>BORROWER_PICTURED</th>\n",
       "      <th>REPAYMENT_INTERVAL</th>\n",
       "      <th>DISTRIBUTION_MODEL</th>\n",
       "      <th>LENDERS</th>\n",
       "      <th>LENDERS_LIST</th>\n",
       "    </tr>\n",
       "  </thead>\n",
       "  <tbody>\n",
       "    <tr>\n",
       "      <th>0</th>\n",
       "      <td>1574785</td>\n",
       "      <td>St. Leonard and St. Stephen School</td>\n",
       "      <td>English</td>\n",
       "      <td>James is administrator of St. Leonard and St. ...</td>\n",
       "      <td>James is administrator of St. Leonard and St. ...</td>\n",
       "      <td>875.0</td>\n",
       "      <td>875.0</td>\n",
       "      <td>funded</td>\n",
       "      <td>2906446.0</td>\n",
       "      <td>NaN</td>\n",
       "      <td>...</td>\n",
       "      <td>1</td>\n",
       "      <td>1</td>\n",
       "      <td>#Biz Durable Asset, #Schooling, #Health and Sa...</td>\n",
       "      <td>St. Leonard and St. Stephen School</td>\n",
       "      <td>male</td>\n",
       "      <td>true</td>\n",
       "      <td>irregular</td>\n",
       "      <td>field_partner</td>\n",
       "      <td>judy7940, jarkko5246, carl2812, valerio2063, u...</td>\n",
       "      <td>[judy7940, jarkko5246, carl2812, valerio2063, ...</td>\n",
       "    </tr>\n",
       "    <tr>\n",
       "      <th>1</th>\n",
       "      <td>380208</td>\n",
       "      <td>Abdukarimjon</td>\n",
       "      <td>Russian</td>\n",
       "      <td>Абдукаримджон женат имеет двоих детей. Женат. ...</td>\n",
       "      <td>Abdukarimjon is married and has three children...</td>\n",
       "      <td>1600.0</td>\n",
       "      <td>1600.0</td>\n",
       "      <td>funded</td>\n",
       "      <td>979830.0</td>\n",
       "      <td>NaN</td>\n",
       "      <td>...</td>\n",
       "      <td>2</td>\n",
       "      <td>1</td>\n",
       "      <td>NaN</td>\n",
       "      <td>Abdukarimjon</td>\n",
       "      <td>male</td>\n",
       "      <td>true</td>\n",
       "      <td>monthly</td>\n",
       "      <td>field_partner</td>\n",
       "      <td>esouthard, sherrilothridge, rasmus5629, susan1...</td>\n",
       "      <td>[esouthard, sherrilothridge, rasmus5629, susan...</td>\n",
       "    </tr>\n",
       "    <tr>\n",
       "      <th>2</th>\n",
       "      <td>1067063</td>\n",
       "      <td>Roeun</td>\n",
       "      <td>English</td>\n",
       "      <td>Roeun is a 54-year-old married mother with fou...</td>\n",
       "      <td>Roeun is a 54-year-old married mother with fou...</td>\n",
       "      <td>1500.0</td>\n",
       "      <td>1500.0</td>\n",
       "      <td>funded</td>\n",
       "      <td>2177966.0</td>\n",
       "      <td>NaN</td>\n",
       "      <td>...</td>\n",
       "      <td>2</td>\n",
       "      <td>1</td>\n",
       "      <td>#Elderly, #Parent, #Biz Durable Asset, #Woman ...</td>\n",
       "      <td>Roeun</td>\n",
       "      <td>male</td>\n",
       "      <td>true</td>\n",
       "      <td>monthly</td>\n",
       "      <td>field_partner</td>\n",
       "      <td>katrina4255, themissionbeltco, jaredfielding, ...</td>\n",
       "      <td>[katrina4255, themissionbeltco, jaredfielding,...</td>\n",
       "    </tr>\n",
       "    <tr>\n",
       "      <th>3</th>\n",
       "      <td>826998</td>\n",
       "      <td>Ref'at</td>\n",
       "      <td>English</td>\n",
       "      <td>Ref'at is a 32-year-old married man from Gaza ...</td>\n",
       "      <td>Ref'at is a 32-year-old married man from Gaza ...</td>\n",
       "      <td>2500.0</td>\n",
       "      <td>2500.0</td>\n",
       "      <td>funded</td>\n",
       "      <td>1791557.0</td>\n",
       "      <td>NaN</td>\n",
       "      <td>...</td>\n",
       "      <td>1</td>\n",
       "      <td>1</td>\n",
       "      <td>#Parent</td>\n",
       "      <td>Ref'at</td>\n",
       "      <td>male</td>\n",
       "      <td>true</td>\n",
       "      <td>monthly</td>\n",
       "      <td>field_partner</td>\n",
       "      <td>richard5036, eliasdebbas, karen6798, cedric911...</td>\n",
       "      <td>[richard5036, eliasdebbas, karen6798, cedric91...</td>\n",
       "    </tr>\n",
       "    <tr>\n",
       "      <th>4</th>\n",
       "      <td>1008224</td>\n",
       "      <td>Reem</td>\n",
       "      <td>English</td>\n",
       "      <td>Reem is a mother for six children living in Ra...</td>\n",
       "      <td>Reem is a mother for six children living in Ra...</td>\n",
       "      <td>1450.0</td>\n",
       "      <td>1450.0</td>\n",
       "      <td>funded</td>\n",
       "      <td>2077357.0</td>\n",
       "      <td>NaN</td>\n",
       "      <td>...</td>\n",
       "      <td>2</td>\n",
       "      <td>1</td>\n",
       "      <td>volunteer_like, #First Loan, #Parent, #Refugee...</td>\n",
       "      <td>Reem</td>\n",
       "      <td>female</td>\n",
       "      <td>true</td>\n",
       "      <td>monthly</td>\n",
       "      <td>field_partner</td>\n",
       "      <td>jennifer51145544, judith8117, matteo5275, DasJ...</td>\n",
       "      <td>[jennifer51145544, judith8117, matteo5275, Das...</td>\n",
       "    </tr>\n",
       "  </tbody>\n",
       "</table>\n",
       "<p>5 rows × 36 columns</p>\n",
       "</div>"
      ],
      "text/plain": [
       "   LOAN_ID                           LOAN_NAME ORIGINAL_LANGUAGE  \\\n",
       "0  1574785  St. Leonard and St. Stephen School           English   \n",
       "1   380208                        Abdukarimjon           Russian   \n",
       "2  1067063                               Roeun           English   \n",
       "3   826998                              Ref'at           English   \n",
       "4  1008224                                Reem           English   \n",
       "\n",
       "                                         DESCRIPTION  \\\n",
       "0  James is administrator of St. Leonard and St. ...   \n",
       "1  Абдукаримджон женат имеет двоих детей. Женат. ...   \n",
       "2  Roeun is a 54-year-old married mother with fou...   \n",
       "3  Ref'at is a 32-year-old married man from Gaza ...   \n",
       "4  Reem is a mother for six children living in Ra...   \n",
       "\n",
       "                              DESCRIPTION_TRANSLATED  FUNDED_AMOUNT  \\\n",
       "0  James is administrator of St. Leonard and St. ...          875.0   \n",
       "1  Abdukarimjon is married and has three children...         1600.0   \n",
       "2  Roeun is a 54-year-old married mother with fou...         1500.0   \n",
       "3  Ref'at is a 32-year-old married man from Gaza ...         2500.0   \n",
       "4  Reem is a mother for six children living in Ra...         1450.0   \n",
       "\n",
       "   LOAN_AMOUNT  STATUS   IMAGE_ID  VIDEO_ID  ... NUM_JOURNAL_ENTRIES  \\\n",
       "0        875.0  funded  2906446.0       NaN  ...                   1   \n",
       "1       1600.0  funded   979830.0       NaN  ...                   2   \n",
       "2       1500.0  funded  2177966.0       NaN  ...                   2   \n",
       "3       2500.0  funded  1791557.0       NaN  ...                   1   \n",
       "4       1450.0  funded  2077357.0       NaN  ...                   2   \n",
       "\n",
       "  NUM_BULK_ENTRIES                                               TAGS  \\\n",
       "0                1  #Biz Durable Asset, #Schooling, #Health and Sa...   \n",
       "1                1                                                NaN   \n",
       "2                1  #Elderly, #Parent, #Biz Durable Asset, #Woman ...   \n",
       "3                1                                            #Parent   \n",
       "4                1  volunteer_like, #First Loan, #Parent, #Refugee...   \n",
       "\n",
       "                       BORROWER_NAMES BORROWER_GENDERS BORROWER_PICTURED  \\\n",
       "0  St. Leonard and St. Stephen School             male              true   \n",
       "1                        Abdukarimjon             male              true   \n",
       "2                               Roeun             male              true   \n",
       "3                              Ref'at             male              true   \n",
       "4                                Reem           female              true   \n",
       "\n",
       "  REPAYMENT_INTERVAL  DISTRIBUTION_MODEL  \\\n",
       "0          irregular       field_partner   \n",
       "1            monthly       field_partner   \n",
       "2            monthly       field_partner   \n",
       "3            monthly       field_partner   \n",
       "4            monthly       field_partner   \n",
       "\n",
       "                                             LENDERS  \\\n",
       "0  judy7940, jarkko5246, carl2812, valerio2063, u...   \n",
       "1  esouthard, sherrilothridge, rasmus5629, susan1...   \n",
       "2  katrina4255, themissionbeltco, jaredfielding, ...   \n",
       "3  richard5036, eliasdebbas, karen6798, cedric911...   \n",
       "4  jennifer51145544, judith8117, matteo5275, DasJ...   \n",
       "\n",
       "                                        LENDERS_LIST  \n",
       "0  [judy7940, jarkko5246, carl2812, valerio2063, ...  \n",
       "1  [esouthard, sherrilothridge, rasmus5629, susan...  \n",
       "2  [katrina4255, themissionbeltco, jaredfielding,...  \n",
       "3  [richard5036, eliasdebbas, karen6798, cedric91...  \n",
       "4  [jennifer51145544, judith8117, matteo5275, Das...  \n",
       "\n",
       "[5 rows x 36 columns]"
      ]
     },
     "execution_count": 16,
     "metadata": {},
     "output_type": "execute_result"
    }
   ],
   "source": [
    "merged.head()"
   ]
  },
  {
   "cell_type": "code",
   "execution_count": 17,
   "metadata": {
    "collapsed": true
   },
   "outputs": [
    {
     "data": {
      "text/plain": [
       "0          None\n",
       "1          None\n",
       "2          None\n",
       "3          None\n",
       "4          None\n",
       "5          None\n",
       "6          None\n",
       "7          None\n",
       "8          None\n",
       "9          None\n",
       "10         None\n",
       "11         None\n",
       "12         None\n",
       "13         None\n",
       "14         None\n",
       "15         None\n",
       "16         None\n",
       "17         None\n",
       "18         None\n",
       "19         None\n",
       "20         None\n",
       "21         None\n",
       "22         None\n",
       "23         None\n",
       "24         None\n",
       "25         None\n",
       "26         None\n",
       "27         None\n",
       "28         None\n",
       "29         None\n",
       "           ... \n",
       "1635711    None\n",
       "1635712    None\n",
       "1635713    None\n",
       "1635714    None\n",
       "1635715    None\n",
       "1635716    None\n",
       "1635717    None\n",
       "1635718    None\n",
       "1635719    None\n",
       "1635720    None\n",
       "1635721    None\n",
       "1635722    None\n",
       "1635723    None\n",
       "1635724    None\n",
       "1635725    None\n",
       "1635726    None\n",
       "1635727    None\n",
       "1635728    None\n",
       "1635729    None\n",
       "1635730    None\n",
       "1635731    None\n",
       "1635732    None\n",
       "1635733    None\n",
       "1635734    None\n",
       "1635735    None\n",
       "1635736    None\n",
       "1635737    None\n",
       "1635738    None\n",
       "1635739    None\n",
       "1635740    None\n",
       "Name: LENDERS, Length: 1635741, dtype: object"
      ]
     },
     "execution_count": 17,
     "metadata": {},
     "output_type": "execute_result"
    }
   ],
   "source": [
    "unique_lenders = set()\n",
    "initialized = False\n",
    "\n",
    "def add_to_set(list_str):\n",
    "    unique_lenders.update(list_str.split(', '))\n",
    "\n",
    "df2.LENDERS.apply(add_to_set)"
   ]
  },
  {
   "cell_type": "code",
   "execution_count": 32,
   "metadata": {},
   "outputs": [
    {
     "data": {
      "text/plain": [
       "array([ 152222,   31727,   15246, ..., 1704997, 1712559, 1712284])"
      ]
     },
     "execution_count": 32,
     "metadata": {},
     "output_type": "execute_result"
    }
   ],
   "source": [
    "df2.LOAN_ID.unique()"
   ]
  },
  {
   "cell_type": "code",
   "execution_count": 18,
   "metadata": {},
   "outputs": [
    {
     "data": {
      "text/plain": [
       "1499532"
      ]
     },
     "execution_count": 18,
     "metadata": {},
     "output_type": "execute_result"
    }
   ],
   "source": [
    "len(unique_lenders)"
   ]
  },
  {
   "cell_type": "code",
   "execution_count": 28,
   "metadata": {},
   "outputs": [],
   "source": [
    "def generate_lender_idx_map():\n",
    "    lender_to_idx = dict()\n",
    "    idx = 0\n",
    "    for lender in unique_lenders:\n",
    "        lender_to_idx[lender] = idx\n",
    "        idx += 1\n",
    "    return lender_to_idx"
   ]
  },
  {
   "cell_type": "code",
   "execution_count": 33,
   "metadata": {},
   "outputs": [],
   "source": [
    "\n",
    "def generate_loan_idx_map():\n",
    "    loan_to_idx = dict()\n",
    "    idx = 0\n",
    "    for loan in df2.LOAN_ID.unique():\n",
    "        loan_to_idx[loan] = idx\n",
    "        idx += 1\n",
    "    return loan_to_idx"
   ]
  },
  {
   "cell_type": "code",
   "execution_count": 29,
   "metadata": {},
   "outputs": [],
   "source": [
    "lender_to_idx = generate_lender_idx_map()"
   ]
  },
  {
   "cell_type": "code",
   "execution_count": 34,
   "metadata": {},
   "outputs": [],
   "source": [
    "loan_to_idx = generate_loan_idx_map()"
   ]
  },
  {
   "cell_type": "code",
   "execution_count": 35,
   "metadata": {},
   "outputs": [
    {
     "data": {
      "text/plain": [
       "1635741"
      ]
     },
     "execution_count": 35,
     "metadata": {},
     "output_type": "execute_result"
    }
   ],
   "source": [
    "len(loan_to_idx)"
   ]
  },
  {
   "cell_type": "code",
   "execution_count": 36,
   "metadata": {},
   "outputs": [
    {
     "data": {
      "text/plain": [
       "1499532"
      ]
     },
     "execution_count": 36,
     "metadata": {},
     "output_type": "execute_result"
    }
   ],
   "source": [
    "len(lender_to_idx)"
   ]
  },
  {
   "cell_type": "code",
   "execution_count": 55,
   "metadata": {},
   "outputs": [],
   "source": [
    "# nxm matrix: rows are loans, cols are lenders\n",
    "mat = np.zeros((len(loan_to_idx), len(lender_to_idx)))"
   ]
  },
  {
   "cell_type": "code",
   "execution_count": 56,
   "metadata": {},
   "outputs": [
    {
     "data": {
      "text/plain": [
       "(1635741, 1499532)"
      ]
     },
     "execution_count": 56,
     "metadata": {},
     "output_type": "execute_result"
    }
   ],
   "source": [
    "mat.shape"
   ]
  },
  {
   "cell_type": "code",
   "execution_count": 58,
   "metadata": {},
   "outputs": [],
   "source": [
    "def insert_lenders(row):\n",
    "    for lender in row[1].split(', '):\n",
    "        mat[loan_to_idx[row[0]]][lender_to_idx[lender]] += 1"
   ]
  },
  {
   "cell_type": "code",
   "execution_count": null,
   "metadata": {
    "scrolled": false
   },
   "outputs": [],
   "source": [
    "df2.apply(insert_lenders, axis=1)"
   ]
  },
  {
   "cell_type": "code",
   "execution_count": null,
   "metadata": {},
   "outputs": [],
   "source": []
  }
 ],
 "metadata": {
  "kernelspec": {
   "display_name": "Python 3",
   "language": "python",
   "name": "python3"
  },
  "language_info": {
   "codemirror_mode": {
    "name": "ipython",
    "version": 3
   },
   "file_extension": ".py",
   "mimetype": "text/x-python",
   "name": "python",
   "nbconvert_exporter": "python",
   "pygments_lexer": "ipython3",
   "version": "3.7.1"
  }
 },
 "nbformat": 4,
 "nbformat_minor": 2
}
